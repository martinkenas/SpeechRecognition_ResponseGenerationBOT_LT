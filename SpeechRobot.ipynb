{
  "nbformat": 4,
  "nbformat_minor": 0,
  "metadata": {
    "colab": {
      "provenance": [],
      "authorship_tag": "ABX9TyPJmdwYkcO0JLxnzk6YuRRd",
      "include_colab_link": true
    },
    "kernelspec": {
      "name": "python3",
      "display_name": "Python 3"
    },
    "language_info": {
      "name": "python"
    }
  },
  "cells": [
    {
      "cell_type": "markdown",
      "metadata": {
        "id": "view-in-github",
        "colab_type": "text"
      },
      "source": [
        "<a href=\"https://colab.research.google.com/github/martinkenas/Voice-controlled-conversation-robot_Lithuanian_Language/blob/main/SpeechRobot.ipynb\" target=\"_parent\"><img src=\"https://colab.research.google.com/assets/colab-badge.svg\" alt=\"Open In Colab\"/></a>"
      ]
    },
    {
      "cell_type": "code",
      "source": [
        "# 1. Įdiekite reikiamas bibliotekas\n",
        "!pip install google-cloud-speech\n",
        "!pip install google-cloud-texttospeech\n",
        "!pip install pydub\n",
        "!pip install google-cloud-dialogflow"
      ],
      "metadata": {
        "colab": {
          "base_uri": "https://localhost:8080/",
          "height": 0
        },
        "id": "TzL6dSnlwzSO",
        "outputId": "11d00f5b-a3fa-415e-9411-a2ef0b9ceff3"
      },
      "execution_count": 1,
      "outputs": [
        {
          "output_type": "stream",
          "name": "stdout",
          "text": [
            "Requirement already satisfied: google-cloud-speech in /usr/local/lib/python3.10/dist-packages (2.26.0)\n",
            "Requirement already satisfied: google-api-core[grpc]!=2.0.*,!=2.1.*,!=2.10.*,!=2.2.*,!=2.3.*,!=2.4.*,!=2.5.*,!=2.6.*,!=2.7.*,!=2.8.*,!=2.9.*,<3.0.0dev,>=1.34.1 in /usr/local/lib/python3.10/dist-packages (from google-cloud-speech) (2.11.1)\n",
            "Requirement already satisfied: google-auth!=2.24.0,!=2.25.0,<3.0.0dev,>=2.14.1 in /usr/local/lib/python3.10/dist-packages (from google-cloud-speech) (2.27.0)\n",
            "Requirement already satisfied: proto-plus<2.0.0dev,>=1.22.3 in /usr/local/lib/python3.10/dist-packages (from google-cloud-speech) (1.23.0)\n",
            "Requirement already satisfied: protobuf!=3.20.0,!=3.20.1,!=4.21.0,!=4.21.1,!=4.21.2,!=4.21.3,!=4.21.4,!=4.21.5,<5.0.0dev,>=3.19.5 in /usr/local/lib/python3.10/dist-packages (from google-cloud-speech) (3.20.3)\n",
            "Requirement already satisfied: googleapis-common-protos<2.0.dev0,>=1.56.2 in /usr/local/lib/python3.10/dist-packages (from google-api-core[grpc]!=2.0.*,!=2.1.*,!=2.10.*,!=2.2.*,!=2.3.*,!=2.4.*,!=2.5.*,!=2.6.*,!=2.7.*,!=2.8.*,!=2.9.*,<3.0.0dev,>=1.34.1->google-cloud-speech) (1.63.1)\n",
            "Requirement already satisfied: requests<3.0.0.dev0,>=2.18.0 in /usr/local/lib/python3.10/dist-packages (from google-api-core[grpc]!=2.0.*,!=2.1.*,!=2.10.*,!=2.2.*,!=2.3.*,!=2.4.*,!=2.5.*,!=2.6.*,!=2.7.*,!=2.8.*,!=2.9.*,<3.0.0dev,>=1.34.1->google-cloud-speech) (2.31.0)\n",
            "Requirement already satisfied: grpcio<2.0dev,>=1.33.2 in /usr/local/lib/python3.10/dist-packages (from google-api-core[grpc]!=2.0.*,!=2.1.*,!=2.10.*,!=2.2.*,!=2.3.*,!=2.4.*,!=2.5.*,!=2.6.*,!=2.7.*,!=2.8.*,!=2.9.*,<3.0.0dev,>=1.34.1->google-cloud-speech) (1.64.1)\n",
            "Requirement already satisfied: grpcio-status<2.0.dev0,>=1.33.2 in /usr/local/lib/python3.10/dist-packages (from google-api-core[grpc]!=2.0.*,!=2.1.*,!=2.10.*,!=2.2.*,!=2.3.*,!=2.4.*,!=2.5.*,!=2.6.*,!=2.7.*,!=2.8.*,!=2.9.*,<3.0.0dev,>=1.34.1->google-cloud-speech) (1.48.2)\n",
            "Requirement already satisfied: cachetools<6.0,>=2.0.0 in /usr/local/lib/python3.10/dist-packages (from google-auth!=2.24.0,!=2.25.0,<3.0.0dev,>=2.14.1->google-cloud-speech) (5.3.3)\n",
            "Requirement already satisfied: pyasn1-modules>=0.2.1 in /usr/local/lib/python3.10/dist-packages (from google-auth!=2.24.0,!=2.25.0,<3.0.0dev,>=2.14.1->google-cloud-speech) (0.4.0)\n",
            "Requirement already satisfied: rsa<5,>=3.1.4 in /usr/local/lib/python3.10/dist-packages (from google-auth!=2.24.0,!=2.25.0,<3.0.0dev,>=2.14.1->google-cloud-speech) (4.9)\n",
            "Requirement already satisfied: pyasn1<0.7.0,>=0.4.6 in /usr/local/lib/python3.10/dist-packages (from pyasn1-modules>=0.2.1->google-auth!=2.24.0,!=2.25.0,<3.0.0dev,>=2.14.1->google-cloud-speech) (0.6.0)\n",
            "Requirement already satisfied: charset-normalizer<4,>=2 in /usr/local/lib/python3.10/dist-packages (from requests<3.0.0.dev0,>=2.18.0->google-api-core[grpc]!=2.0.*,!=2.1.*,!=2.10.*,!=2.2.*,!=2.3.*,!=2.4.*,!=2.5.*,!=2.6.*,!=2.7.*,!=2.8.*,!=2.9.*,<3.0.0dev,>=1.34.1->google-cloud-speech) (3.3.2)\n",
            "Requirement already satisfied: idna<4,>=2.5 in /usr/local/lib/python3.10/dist-packages (from requests<3.0.0.dev0,>=2.18.0->google-api-core[grpc]!=2.0.*,!=2.1.*,!=2.10.*,!=2.2.*,!=2.3.*,!=2.4.*,!=2.5.*,!=2.6.*,!=2.7.*,!=2.8.*,!=2.9.*,<3.0.0dev,>=1.34.1->google-cloud-speech) (3.7)\n",
            "Requirement already satisfied: urllib3<3,>=1.21.1 in /usr/local/lib/python3.10/dist-packages (from requests<3.0.0.dev0,>=2.18.0->google-api-core[grpc]!=2.0.*,!=2.1.*,!=2.10.*,!=2.2.*,!=2.3.*,!=2.4.*,!=2.5.*,!=2.6.*,!=2.7.*,!=2.8.*,!=2.9.*,<3.0.0dev,>=1.34.1->google-cloud-speech) (2.0.7)\n",
            "Requirement already satisfied: certifi>=2017.4.17 in /usr/local/lib/python3.10/dist-packages (from requests<3.0.0.dev0,>=2.18.0->google-api-core[grpc]!=2.0.*,!=2.1.*,!=2.10.*,!=2.2.*,!=2.3.*,!=2.4.*,!=2.5.*,!=2.6.*,!=2.7.*,!=2.8.*,!=2.9.*,<3.0.0dev,>=1.34.1->google-cloud-speech) (2024.6.2)\n",
            "Requirement already satisfied: google-cloud-texttospeech in /usr/local/lib/python3.10/dist-packages (2.16.3)\n",
            "Requirement already satisfied: google-api-core[grpc]!=2.0.*,!=2.1.*,!=2.10.*,!=2.2.*,!=2.3.*,!=2.4.*,!=2.5.*,!=2.6.*,!=2.7.*,!=2.8.*,!=2.9.*,<3.0.0dev,>=1.34.1 in /usr/local/lib/python3.10/dist-packages (from google-cloud-texttospeech) (2.11.1)\n",
            "Requirement already satisfied: google-auth!=2.24.0,!=2.25.0,<3.0.0dev,>=2.14.1 in /usr/local/lib/python3.10/dist-packages (from google-cloud-texttospeech) (2.27.0)\n",
            "Requirement already satisfied: proto-plus<2.0.0dev,>=1.22.3 in /usr/local/lib/python3.10/dist-packages (from google-cloud-texttospeech) (1.23.0)\n",
            "Requirement already satisfied: protobuf!=3.20.0,!=3.20.1,!=4.21.0,!=4.21.1,!=4.21.2,!=4.21.3,!=4.21.4,!=4.21.5,<5.0.0dev,>=3.19.5 in /usr/local/lib/python3.10/dist-packages (from google-cloud-texttospeech) (3.20.3)\n",
            "Requirement already satisfied: googleapis-common-protos<2.0.dev0,>=1.56.2 in /usr/local/lib/python3.10/dist-packages (from google-api-core[grpc]!=2.0.*,!=2.1.*,!=2.10.*,!=2.2.*,!=2.3.*,!=2.4.*,!=2.5.*,!=2.6.*,!=2.7.*,!=2.8.*,!=2.9.*,<3.0.0dev,>=1.34.1->google-cloud-texttospeech) (1.63.1)\n",
            "Requirement already satisfied: requests<3.0.0.dev0,>=2.18.0 in /usr/local/lib/python3.10/dist-packages (from google-api-core[grpc]!=2.0.*,!=2.1.*,!=2.10.*,!=2.2.*,!=2.3.*,!=2.4.*,!=2.5.*,!=2.6.*,!=2.7.*,!=2.8.*,!=2.9.*,<3.0.0dev,>=1.34.1->google-cloud-texttospeech) (2.31.0)\n",
            "Requirement already satisfied: grpcio<2.0dev,>=1.33.2 in /usr/local/lib/python3.10/dist-packages (from google-api-core[grpc]!=2.0.*,!=2.1.*,!=2.10.*,!=2.2.*,!=2.3.*,!=2.4.*,!=2.5.*,!=2.6.*,!=2.7.*,!=2.8.*,!=2.9.*,<3.0.0dev,>=1.34.1->google-cloud-texttospeech) (1.64.1)\n",
            "Requirement already satisfied: grpcio-status<2.0.dev0,>=1.33.2 in /usr/local/lib/python3.10/dist-packages (from google-api-core[grpc]!=2.0.*,!=2.1.*,!=2.10.*,!=2.2.*,!=2.3.*,!=2.4.*,!=2.5.*,!=2.6.*,!=2.7.*,!=2.8.*,!=2.9.*,<3.0.0dev,>=1.34.1->google-cloud-texttospeech) (1.48.2)\n",
            "Requirement already satisfied: cachetools<6.0,>=2.0.0 in /usr/local/lib/python3.10/dist-packages (from google-auth!=2.24.0,!=2.25.0,<3.0.0dev,>=2.14.1->google-cloud-texttospeech) (5.3.3)\n",
            "Requirement already satisfied: pyasn1-modules>=0.2.1 in /usr/local/lib/python3.10/dist-packages (from google-auth!=2.24.0,!=2.25.0,<3.0.0dev,>=2.14.1->google-cloud-texttospeech) (0.4.0)\n",
            "Requirement already satisfied: rsa<5,>=3.1.4 in /usr/local/lib/python3.10/dist-packages (from google-auth!=2.24.0,!=2.25.0,<3.0.0dev,>=2.14.1->google-cloud-texttospeech) (4.9)\n",
            "Requirement already satisfied: pyasn1<0.7.0,>=0.4.6 in /usr/local/lib/python3.10/dist-packages (from pyasn1-modules>=0.2.1->google-auth!=2.24.0,!=2.25.0,<3.0.0dev,>=2.14.1->google-cloud-texttospeech) (0.6.0)\n",
            "Requirement already satisfied: charset-normalizer<4,>=2 in /usr/local/lib/python3.10/dist-packages (from requests<3.0.0.dev0,>=2.18.0->google-api-core[grpc]!=2.0.*,!=2.1.*,!=2.10.*,!=2.2.*,!=2.3.*,!=2.4.*,!=2.5.*,!=2.6.*,!=2.7.*,!=2.8.*,!=2.9.*,<3.0.0dev,>=1.34.1->google-cloud-texttospeech) (3.3.2)\n",
            "Requirement already satisfied: idna<4,>=2.5 in /usr/local/lib/python3.10/dist-packages (from requests<3.0.0.dev0,>=2.18.0->google-api-core[grpc]!=2.0.*,!=2.1.*,!=2.10.*,!=2.2.*,!=2.3.*,!=2.4.*,!=2.5.*,!=2.6.*,!=2.7.*,!=2.8.*,!=2.9.*,<3.0.0dev,>=1.34.1->google-cloud-texttospeech) (3.7)\n",
            "Requirement already satisfied: urllib3<3,>=1.21.1 in /usr/local/lib/python3.10/dist-packages (from requests<3.0.0.dev0,>=2.18.0->google-api-core[grpc]!=2.0.*,!=2.1.*,!=2.10.*,!=2.2.*,!=2.3.*,!=2.4.*,!=2.5.*,!=2.6.*,!=2.7.*,!=2.8.*,!=2.9.*,<3.0.0dev,>=1.34.1->google-cloud-texttospeech) (2.0.7)\n",
            "Requirement already satisfied: certifi>=2017.4.17 in /usr/local/lib/python3.10/dist-packages (from requests<3.0.0.dev0,>=2.18.0->google-api-core[grpc]!=2.0.*,!=2.1.*,!=2.10.*,!=2.2.*,!=2.3.*,!=2.4.*,!=2.5.*,!=2.6.*,!=2.7.*,!=2.8.*,!=2.9.*,<3.0.0dev,>=1.34.1->google-cloud-texttospeech) (2024.6.2)\n",
            "Requirement already satisfied: pydub in /usr/local/lib/python3.10/dist-packages (0.25.1)\n",
            "Requirement already satisfied: google-cloud-dialogflow in /usr/local/lib/python3.10/dist-packages (2.30.0)\n",
            "Requirement already satisfied: google-api-core[grpc]!=2.0.*,!=2.1.*,!=2.10.*,!=2.2.*,!=2.3.*,!=2.4.*,!=2.5.*,!=2.6.*,!=2.7.*,!=2.8.*,!=2.9.*,<3.0.0dev,>=1.34.1 in /usr/local/lib/python3.10/dist-packages (from google-cloud-dialogflow) (2.11.1)\n",
            "Requirement already satisfied: google-auth!=2.24.0,!=2.25.0,<3.0.0dev,>=2.14.1 in /usr/local/lib/python3.10/dist-packages (from google-cloud-dialogflow) (2.27.0)\n",
            "Requirement already satisfied: proto-plus<2.0.0dev,>=1.22.3 in /usr/local/lib/python3.10/dist-packages (from google-cloud-dialogflow) (1.23.0)\n",
            "Requirement already satisfied: protobuf!=3.20.0,!=3.20.1,!=4.21.0,!=4.21.1,!=4.21.2,!=4.21.3,!=4.21.4,!=4.21.5,<5.0.0dev,>=3.19.5 in /usr/local/lib/python3.10/dist-packages (from google-cloud-dialogflow) (3.20.3)\n",
            "Requirement already satisfied: googleapis-common-protos<2.0.dev0,>=1.56.2 in /usr/local/lib/python3.10/dist-packages (from google-api-core[grpc]!=2.0.*,!=2.1.*,!=2.10.*,!=2.2.*,!=2.3.*,!=2.4.*,!=2.5.*,!=2.6.*,!=2.7.*,!=2.8.*,!=2.9.*,<3.0.0dev,>=1.34.1->google-cloud-dialogflow) (1.63.1)\n",
            "Requirement already satisfied: requests<3.0.0.dev0,>=2.18.0 in /usr/local/lib/python3.10/dist-packages (from google-api-core[grpc]!=2.0.*,!=2.1.*,!=2.10.*,!=2.2.*,!=2.3.*,!=2.4.*,!=2.5.*,!=2.6.*,!=2.7.*,!=2.8.*,!=2.9.*,<3.0.0dev,>=1.34.1->google-cloud-dialogflow) (2.31.0)\n",
            "Requirement already satisfied: grpcio<2.0dev,>=1.33.2 in /usr/local/lib/python3.10/dist-packages (from google-api-core[grpc]!=2.0.*,!=2.1.*,!=2.10.*,!=2.2.*,!=2.3.*,!=2.4.*,!=2.5.*,!=2.6.*,!=2.7.*,!=2.8.*,!=2.9.*,<3.0.0dev,>=1.34.1->google-cloud-dialogflow) (1.64.1)\n",
            "Requirement already satisfied: grpcio-status<2.0.dev0,>=1.33.2 in /usr/local/lib/python3.10/dist-packages (from google-api-core[grpc]!=2.0.*,!=2.1.*,!=2.10.*,!=2.2.*,!=2.3.*,!=2.4.*,!=2.5.*,!=2.6.*,!=2.7.*,!=2.8.*,!=2.9.*,<3.0.0dev,>=1.34.1->google-cloud-dialogflow) (1.48.2)\n",
            "Requirement already satisfied: cachetools<6.0,>=2.0.0 in /usr/local/lib/python3.10/dist-packages (from google-auth!=2.24.0,!=2.25.0,<3.0.0dev,>=2.14.1->google-cloud-dialogflow) (5.3.3)\n",
            "Requirement already satisfied: pyasn1-modules>=0.2.1 in /usr/local/lib/python3.10/dist-packages (from google-auth!=2.24.0,!=2.25.0,<3.0.0dev,>=2.14.1->google-cloud-dialogflow) (0.4.0)\n",
            "Requirement already satisfied: rsa<5,>=3.1.4 in /usr/local/lib/python3.10/dist-packages (from google-auth!=2.24.0,!=2.25.0,<3.0.0dev,>=2.14.1->google-cloud-dialogflow) (4.9)\n",
            "Requirement already satisfied: pyasn1<0.7.0,>=0.4.6 in /usr/local/lib/python3.10/dist-packages (from pyasn1-modules>=0.2.1->google-auth!=2.24.0,!=2.25.0,<3.0.0dev,>=2.14.1->google-cloud-dialogflow) (0.6.0)\n",
            "Requirement already satisfied: charset-normalizer<4,>=2 in /usr/local/lib/python3.10/dist-packages (from requests<3.0.0.dev0,>=2.18.0->google-api-core[grpc]!=2.0.*,!=2.1.*,!=2.10.*,!=2.2.*,!=2.3.*,!=2.4.*,!=2.5.*,!=2.6.*,!=2.7.*,!=2.8.*,!=2.9.*,<3.0.0dev,>=1.34.1->google-cloud-dialogflow) (3.3.2)\n",
            "Requirement already satisfied: idna<4,>=2.5 in /usr/local/lib/python3.10/dist-packages (from requests<3.0.0.dev0,>=2.18.0->google-api-core[grpc]!=2.0.*,!=2.1.*,!=2.10.*,!=2.2.*,!=2.3.*,!=2.4.*,!=2.5.*,!=2.6.*,!=2.7.*,!=2.8.*,!=2.9.*,<3.0.0dev,>=1.34.1->google-cloud-dialogflow) (3.7)\n",
            "Requirement already satisfied: urllib3<3,>=1.21.1 in /usr/local/lib/python3.10/dist-packages (from requests<3.0.0.dev0,>=2.18.0->google-api-core[grpc]!=2.0.*,!=2.1.*,!=2.10.*,!=2.2.*,!=2.3.*,!=2.4.*,!=2.5.*,!=2.6.*,!=2.7.*,!=2.8.*,!=2.9.*,<3.0.0dev,>=1.34.1->google-cloud-dialogflow) (2.0.7)\n",
            "Requirement already satisfied: certifi>=2017.4.17 in /usr/local/lib/python3.10/dist-packages (from requests<3.0.0.dev0,>=2.18.0->google-api-core[grpc]!=2.0.*,!=2.1.*,!=2.10.*,!=2.2.*,!=2.3.*,!=2.4.*,!=2.5.*,!=2.6.*,!=2.7.*,!=2.8.*,!=2.9.*,<3.0.0dev,>=1.34.1->google-cloud-dialogflow) (2024.6.2)\n"
          ]
        }
      ]
    },
    {
      "cell_type": "markdown",
      "source": [
        "**SPEECH TO TEXT**   \"Nauseda.flac\" is an audio file derived from this video https://www.youtube.com/watch?v=XZJM4QMWT9U"
      ],
      "metadata": {
        "id": "oPsziOBRzouq"
      }
    },
    {
      "cell_type": "code",
      "source": [
        "# 2. Importuokite bibliotekas\n",
        "from google.cloud import speech\n",
        "import io\n",
        "import os\n",
        "from pydub import AudioSegment\n",
        "\n",
        "# 3. Nustatykite savo GCP projekto ID ir API raktą\n",
        "os.environ[\"GOOGLE_APPLICATION_CREDENTIALS\"] = \"API KEY JSON\"\n",
        "\n",
        "# 4. Sukurkite Speech-to-Text klientą\n",
        "client = speech.SpeechClient()\n",
        "\n",
        "# 5. Nurodykite garso failo kelią (pakeiskite PATH_TO_YOUR_AUDIO_FILE)\n",
        "file_name = \"/content/Nauseda.flac\"\n",
        "\n",
        "# 6. Atidarykite ir konvertuokite garso failą į mono\n",
        "audio_file = AudioSegment.from_file(file_name)\n",
        "audio_file = audio_file.set_channels(1)  # Konvertuokite į mono\n",
        "\n",
        "# 7. Išsaugokite konvertuotą failą\n",
        "mono_file_name = \"/content/Nauseda_mono.flac\"\n",
        "audio_file.export(mono_file_name, format=\"flac\")\n",
        "\n",
        "# 8. Atidarykite konvertuotą garso failą\n",
        "with io.open(mono_file_name, \"rb\") as f:\n",
        "    content = f.read()\n",
        "\n",
        "# 9. Sukurkite Speech-to-Text užklausą\n",
        "audio = speech.RecognitionAudio(content=content)\n",
        "config = speech.RecognitionConfig(\n",
        "    encoding=speech.RecognitionConfig.AudioEncoding.FLAC,\n",
        "    sample_rate_hertz=44100,\n",
        "    language_code=\"lt-LT\",  # Lietuvių kalba\n",
        ")\n",
        "\n",
        "# 10. Atsiųskite užklausą ir gaukite atsakymą\n",
        "try:\n",
        "    response = client.recognize(config=config, audio=audio)\n",
        "\n",
        "    if not response.results:\n",
        "        print(\"No speech recognized\")\n",
        "    for result in response.results:\n",
        "        print(\"Transcript: {}\".format(result.alternatives[0].transcript))\n",
        "except Exception as e:\n",
        "    print(f\"Error occurred: {e}\")\n"
      ],
      "metadata": {
        "colab": {
          "base_uri": "https://localhost:8080/",
          "height": 0
        },
        "id": "eCjqfRKW0ST2",
        "outputId": "a0022a53-749c-48bc-d189-7c7fd8328ccf"
      },
      "execution_count": 8,
      "outputs": [
        {
          "output_type": "stream",
          "name": "stdout",
          "text": [
            "Transcript: Vokietijos kariuomenė žinote nėra mergina kurią galima pakviesti gerai praleisti vakaro prie ežero patvirtintų Ne tai yra rimta kariuomenė Kuriai reikia pasiūlyti vedybų sutartį ir pavedimu sutartyje turi būti labai neaiški numatyti Lietuvos įsipareigojimai ką mes padarysime Nes kitaip Lietuvos Kinijos kariuomenė savo įsipareigojimo mums taip pat negalėsiu eiti\n"
          ]
        }
      ]
    },
    {
      "cell_type": "markdown",
      "source": [
        "**TEXT TO SPEECH**"
      ],
      "metadata": {
        "id": "m0MTdKut4VDb"
      }
    },
    {
      "cell_type": "code",
      "source": [
        "from google.cloud import texttospeech\n",
        "\n",
        "def synthesize_text(text):\n",
        "    client = texttospeech.TextToSpeechClient()\n",
        "    input_text = texttospeech.SynthesisInput(text=text)\n",
        "\n",
        "    voice = texttospeech.VoiceSelectionParams(\n",
        "        language_code=\"lt-LT\",\n",
        "        ssml_gender=texttospeech.SsmlVoiceGender.NEUTRAL\n",
        "    )\n",
        "\n",
        "    audio_config = texttospeech.AudioConfig(\n",
        "        audio_encoding=texttospeech.AudioEncoding.MP3\n",
        "    )\n",
        "\n",
        "    response = client.synthesize_speech(\n",
        "        input=input_text, voice=voice, audio_config=audio_config\n",
        "    )\n",
        "\n",
        "    with open(\"Pasisveikinimas.mp3\", \"wb\") as out:\n",
        "        out.write(response.audio_content)\n",
        "        print(\"Audio content written to file 'Pasisveikinimas.mp3'\")\n"
      ],
      "metadata": {
        "id": "MoGa17ivQ1il"
      },
      "execution_count": 9,
      "outputs": []
    },
    {
      "cell_type": "code",
      "source": [
        "text = \"Sveiki, kaip jums sekasi?\"\n",
        "synthesize_text(text)\n"
      ],
      "metadata": {
        "colab": {
          "base_uri": "https://localhost:8080/",
          "height": 0
        },
        "id": "YENpMrlvSIxO",
        "outputId": "c69b2273-e979-4d37-d4d5-211c92828b53"
      },
      "execution_count": 10,
      "outputs": [
        {
          "output_type": "stream",
          "name": "stdout",
          "text": [
            "Audio content written to file 'Pasisveikinimas.mp3'\n"
          ]
        }
      ]
    },
    {
      "cell_type": "markdown",
      "source": [
        "**Sending Voice Request and Receiving Voice Answer From Dialogflow Bot**"
      ],
      "metadata": {
        "id": "6BIQRSy44gZ4"
      }
    },
    {
      "cell_type": "code",
      "source": [
        "# 2. Importuokite bibliotekas\n",
        "from google.cloud import speech\n",
        "from google.cloud import texttospeech\n",
        "from google.cloud import dialogflow_v2 as dialogflow\n",
        "import io\n",
        "import os\n",
        "from pydub import AudioSegment\n",
        "\n",
        "# 3. Nustatykite savo GCP projekto ID ir API raktą\n",
        "os.environ[\"GOOGLE_APPLICATION_CREDENTIALS\"] = \"API KEY JSON\"\n",
        "\n",
        "# 4. Sukurkite klientus\n",
        "speech_client = speech.SpeechClient()\n",
        "text_to_speech_client = texttospeech.TextToSpeechClient()\n",
        "dialogflow_client = dialogflow.SessionsClient()\n",
        "\n",
        "# 5. Nurodykite garso failo kelią (pakeiskite PATH_TO_YOUR_AUDIO_FILE)\n",
        "audio_file_path = \"/content/Pasisveikinimas.flac\"\n",
        "\n",
        "# 6. Funkcija konvertuoti garso failą į mono\n",
        "def convert_to_mono(file_path):\n",
        "    audio = AudioSegment.from_file(file_path)\n",
        "    audio = audio.set_channels(1)\n",
        "    mono_file_path = \"/content/mono_audio_Pasisveikinimas.flac\"\n",
        "    audio.export(mono_file_path, format=\"flac\")\n",
        "    return mono_file_path\n",
        "\n",
        "# 7. Funkcija atpažinti kalbą iš garso failo\n",
        "def recognize_speech(file_path):\n",
        "    mono_file_path = convert_to_mono(file_path)\n",
        "    with io.open(mono_file_path, \"rb\") as f:\n",
        "        content = f.read()\n",
        "    audio = speech.RecognitionAudio(content=content)\n",
        "    config = speech.RecognitionConfig(\n",
        "        encoding=speech.RecognitionConfig.AudioEncoding.FLAC,\n",
        "        sample_rate_hertz=24000,\n",
        "        language_code=\"lt-LT\",\n",
        "    )\n",
        "    response = speech_client.recognize(config=config, audio=audio)\n",
        "    for result in response.results:\n",
        "        return result.alternatives[0].transcript\n",
        "    return \"No speech recognized\"\n",
        "\n",
        "# 8. Funkcija siųsti užklausą į Dialogflow ir gauti atsakymą\n",
        "def detect_intent_texts(project_id, session_id, text, language_code):\n",
        "    session = dialogflow_client.session_path(project_id, session_id)\n",
        "    text_input = dialogflow.TextInput(text=text, language_code=language_code)\n",
        "    query_input = dialogflow.QueryInput(text=text_input)\n",
        "    response = dialogflow_client.detect_intent(\n",
        "        request={\"session\": session, \"query_input\": query_input}\n",
        "    )\n",
        "    return response.query_result.fulfillment_text\n",
        "\n",
        "# 9. Funkcija konvertuoti tekstą į kalbą\n",
        "def synthesize_text(text):\n",
        "    input_text = texttospeech.SynthesisInput(text=text)\n",
        "    voice = texttospeech.VoiceSelectionParams(\n",
        "        language_code=\"lt-LT\",\n",
        "        ssml_gender=texttospeech.SsmlVoiceGender.NEUTRAL\n",
        "    )\n",
        "    audio_config = texttospeech.AudioConfig(audio_encoding=texttospeech.AudioEncoding.MP3)\n",
        "    response = text_to_speech_client.synthesize_speech(\n",
        "        input=input_text, voice=voice, audio_config=audio_config\n",
        "    )\n",
        "    with open(\"Pasisveikinimas_ATSAKYMAS.mp3\", \"wb\") as out:\n",
        "        out.write(response.audio_content)\n",
        "        print(\"Audio content written to file 'Pasisveikinimas_ATSAKYMAS.mp3'\")\n",
        "\n",
        "# 10. Pagrindinė funkcija apjungiant visus žingsnius\n",
        "def main(audio_file_path):\n",
        "    # Atpažinkite kalbą iš garso failo\n",
        "    recognized_text = recognize_speech(audio_file_path)\n",
        "    print(f\"Recognized text: {recognized_text}\")\n",
        "\n",
        "    # Siųskite užklausą į Dialogflow ir gaukite atsakymą\n",
        "    project_id = \"speech-control-robot\"\n",
        "    session_id = \"52b225d7-d972-4a7b-8226-4697b8029731\"\n",
        "    response_text = detect_intent_texts(project_id, session_id, recognized_text, \"lt\")\n",
        "    print(f\"Dialogflow response: {response_text}\")\n",
        "\n",
        "    # Konvertuokite atsakymą į kalbą\n",
        "    synthesize_text(response_text)\n",
        "\n",
        "# Pavyzdinis naudojimas\n",
        "main(audio_file_path)\n"
      ],
      "metadata": {
        "colab": {
          "base_uri": "https://localhost:8080/",
          "height": 0
        },
        "id": "Zf5dbKmWYU-s",
        "outputId": "34c85b05-0788-41fb-ab97-5fb3fb4f92fe"
      },
      "execution_count": 14,
      "outputs": [
        {
          "output_type": "stream",
          "name": "stdout",
          "text": [
            "Recognized text: Sveiki kaip jum sekasi\n",
            "Dialogflow response: Sveiki atvykę į mūsų žaidimų parduotuvę.  Kuom galiu padėti?\n",
            "Audio content written to file 'Pasisveikinimas_ATSAKYMAS.mp3'\n"
          ]
        }
      ]
    },
    {
      "cell_type": "code",
      "source": [],
      "metadata": {
        "id": "qyDMY3JbgcS-"
      },
      "execution_count": null,
      "outputs": []
    }
  ]
}